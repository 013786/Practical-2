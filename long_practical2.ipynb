{
 "cells": [
  {
   "cell_type": "markdown",
   "metadata": {},
   "source": [
    "# What drives the price of a car?\n",
    "\n",
    "![](images/kurt.jpeg)"
   ]
  },
  {
   "cell_type": "markdown",
   "metadata": {},
   "source": [
    "**OVERVIEW**\n",
    "\n",
    "In this application, you will explore a dataset from kaggle. The original dataset contained information on 3 million used cars. The provided dataset contains information on 426K cars to ensure speed of processing.  Your goal is to understand what factors make a car more or less expensive.  As a result of your analysis, you should provide clear recommendations to your client -- a used car dealership -- as to what consumers value in a used car."
   ]
  },
  {
   "cell_type": "markdown",
   "metadata": {},
   "source": [
    "### CRISP-DM Framework\n",
    "\n",
    "<center>\n",
    "    <img src = images/crisp.png width = 50%/>\n",
    "</center>\n",
    "\n",
    "\n",
    "To frame the task, throughout our practical applications we will refer back to a standard process in industry for data projects called CRISP-DM.  This process provides a framework for working through a data problem.  Your first step in this application will be to read through a brief overview of CRISP-DM [here](https://mo-pcco.s3.us-east-1.amazonaws.com/BH-PCMLAI/module_11/readings_starter.zip).  After reading the overview, answer the questions below."
   ]
  },
  {
   "cell_type": "markdown",
   "metadata": {},
   "source": [
    "### Business Understanding\n",
    "\n",
    "From a business perspective, we are tasked with identifying key drivers for used car prices.  In the CRISP-DM overview, we are asked to convert this business framing to a data problem definition.  Using a few sentences, reframe the task as a data task with the appropriate technical vocabulary. "
   ]
  },
  {
   "cell_type": "code",
   "execution_count": null,
   "metadata": {},
   "outputs": [],
   "source": [
    "## The used car dealer is interested in determing what factors influence a used cars price.  Is the price related\n",
    "## to horsepower, age, engine size?  Are there other identifiable characteristics that can be used"
   ]
  },
  {
   "cell_type": "code",
   "execution_count": 1,
   "metadata": {},
   "outputs": [],
   "source": [
    "import statsmodels.api as sm\n",
    "from statsmodels.tsa.arima.model import ARIMA\n",
    "from statsmodels.tsa.stattools import adfuller\n",
    "from statsmodels.tsa.statespace.sarimax import SARIMAX\n",
    "from statsmodels.tsa.stattools import acf, pacf\n",
    "from statsmodels.graphics.tsaplots import plot_acf, plot_pacf\n",
    "from warnings import filterwarnings \n",
    "filterwarnings('ignore')\n",
    "import pandas as pd\n",
    "import matplotlib.pyplot as plt\n",
    "import numpy as np\n",
    "import seaborn as sns\n",
    "from sklearn.metrics import mean_squared_error,r2_score\n",
    "from sklearn.pipeline import Pipeline\n",
    "from sklearn.model_selection import GridSearchCV, train_test_split, cross_val_score\n",
    "from sklearn.linear_model import LinearRegression, Ridge, Lasso\n",
    "from sklearn.preprocessing import PolynomialFeatures, StandardScaler, OneHotEncoder, FunctionTransformer\n",
    "from sklearn.compose import make_column_transformer, TransformedTargetRegressor, ColumnTransformer\n",
    "from sklearn.inspection import permutation_importance\n",
    "from sklearn.feature_selection import SequentialFeatureSelector\n"
   ]
  },
  {
   "cell_type": "code",
   "execution_count": 28,
   "metadata": {},
   "outputs": [
    {
     "name": "stdout",
     "output_type": "stream",
     "text": [
      "<class 'pandas.core.frame.DataFrame'>\n",
      "RangeIndex: 426880 entries, 0 to 426879\n",
      "Data columns (total 18 columns):\n",
      " #   Column        Non-Null Count   Dtype  \n",
      "---  ------        --------------   -----  \n",
      " 0   id            426880 non-null  int64  \n",
      " 1   region        426880 non-null  object \n",
      " 2   price         426880 non-null  int64  \n",
      " 3   year          425675 non-null  float64\n",
      " 4   manufacturer  409234 non-null  object \n",
      " 5   model         421603 non-null  object \n",
      " 6   condition     252776 non-null  object \n",
      " 7   cylinders     249202 non-null  object \n",
      " 8   fuel          423867 non-null  object \n",
      " 9   odometer      422480 non-null  float64\n",
      " 10  title_status  418638 non-null  object \n",
      " 11  transmission  424324 non-null  object \n",
      " 12  VIN           265838 non-null  object \n",
      " 13  drive         296313 non-null  object \n",
      " 14  size          120519 non-null  object \n",
      " 15  type          334022 non-null  object \n",
      " 16  paint_color   296677 non-null  object \n",
      " 17  state         426880 non-null  object \n",
      "dtypes: float64(2), int64(2), object(14)\n",
      "memory usage: 58.6+ MB\n",
      "<class 'pandas.core.frame.DataFrame'>\n",
      "RangeIndex: 5000 entries, 0 to 4999\n",
      "Data columns (total 18 columns):\n",
      " #   Column        Non-Null Count  Dtype  \n",
      "---  ------        --------------  -----  \n",
      " 0   id            5000 non-null   int64  \n",
      " 1   region        5000 non-null   object \n",
      " 2   price         5000 non-null   int64  \n",
      " 3   year          4914 non-null   float64\n",
      " 4   manufacturer  4681 non-null   object \n",
      " 5   model         4928 non-null   object \n",
      " 6   condition     2951 non-null   object \n",
      " 7   cylinders     3136 non-null   object \n",
      " 8   fuel          4893 non-null   object \n",
      " 9   odometer      4961 non-null   float64\n",
      " 10  title_status  4820 non-null   object \n",
      " 11  transmission  4970 non-null   object \n",
      " 12  VIN           3168 non-null   object \n",
      " 13  drive         3261 non-null   object \n",
      " 14  size          1351 non-null   object \n",
      " 15  type          3762 non-null   object \n",
      " 16  paint_color   3933 non-null   object \n",
      " 17  state         5000 non-null   object \n",
      "dtypes: float64(2), int64(2), object(14)\n",
      "memory usage: 703.3+ KB\n"
     ]
    }
   ],
   "source": [
    "data = pd.read_csv('data/vehicles.csv')\n",
    "data.info()\n",
    "df=data.iloc[:5000]\n",
    "df.info()"
   ]
  },
  {
   "cell_type": "markdown",
   "metadata": {},
   "source": [
    "### Data Understanding\n",
    "\n",
    "After considering the business understanding, we want to get familiar with our data.  Write down some steps that you would take to get to know the dataset and identify any quality issues within.  Take time to get to know the dataset and explore what information it contains and how this could be used to inform your business understanding."
   ]
  },
  {
   "cell_type": "code",
   "execution_count": null,
   "metadata": {},
   "outputs": [],
   "source": [
    "## To better understand the data, I would start by looking at the columns and seeing what information\n",
    "## I have to work with.  What are the data types, how many categorical items are there."
   ]
  },
  {
   "cell_type": "markdown",
   "metadata": {},
   "source": [
    "### Data Preparation\n",
    "\n",
    "After our initial exploration and fine tuning of the business understanding, it is time to construct our final dataset prior to modeling.  Here, we want to make sure to handle any integrity issues and cleaning, the engineering of new features, any transformations that we believe should happen (scaling, logarithms, normalization, etc.), and general preparation for modeling with `sklearn`. "
   ]
  },
  {
   "cell_type": "code",
   "execution_count": null,
   "metadata": {},
   "outputs": [],
   "source": [
    "## After looking at some of the data, I've noticed that I can exclude things like size, type, & VIN \n",
    "## when I am trying to calculate a sales price.  Also I've noticed that there are NULL values so initial\n",
    "## step is to remove them.  We're left with ~125,000 entries. I then needed to make the categorical features\n",
    "## workable and used pd.get_dummies to fill.  Additional examination later showed that the were entries with\n",
    "## completely inaccurate prices and other data so it was dropped  "
   ]
  },
  {
   "cell_type": "code",
   "execution_count": 31,
   "metadata": {},
   "outputs": [
    {
     "name": "stdout",
     "output_type": "stream",
     "text": [
      "19039.667859699355\n"
     ]
    }
   ],
   "source": [
    "df = df.drop(['VIN','size','type'],axis=1)\n",
    "df.dropna(inplace=True)\n",
    "df.sort_values(by='price',ascending=False,inplace=True)\n",
    "df_bad_price = df[df['price'] < 99999]\n",
    "obj_cols = df.select_dtypes(include=['object']).columns\n",
    "\n",
    "for col in obj_cols:\n",
    "    df[col]=df[col].astype('category')\n",
    "\n",
    "df_cleaned=pd.get_dummies(data=df_bad_price, columns = obj_cols)\n",
    "y_log = np.log1p(df_cleaned['price'])\n",
    "y = df_cleaned['price']\n",
    "X = df_cleaned.drop(['price'],axis=1)\n",
    "X_train, X_test, y_train, y_test = train_test_split(X,y,test_size = 0.3,random_state = 42)\n",
    "\n",
    "print(y.mean())"
   ]
  },
  {
   "cell_type": "code",
   "execution_count": 32,
   "metadata": {},
   "outputs": [
    {
     "data": {
      "image/png": "[encoded data removed]",
      "text/plain": [
       "<Figure size 640x480 with 1 Axes>"
      ]
     },
     "metadata": {},
     "output_type": "display_data"
    }
   ],
   "source": [
    "sns.histplot(df,x=\"price\")\n",
    "plt.xlabel(\"Sales Price\")\n",
    "plt.savefig('images/price_vs_count.png')"
   ]
  },
  {
   "cell_type": "code",
   "execution_count": 33,
   "metadata": {},
   "outputs": [
    {
     "data": {
      "image/png": "[encoded data removed]",
      "text/plain": [
       "<Figure size 640x480 with 1 Axes>"
      ]
     },
     "metadata": {},
     "output_type": "display_data"
    }
   ],
   "source": [
    "plt.scatter(df['year'],df['price'])\n",
    "plt.xlabel(\"Year\")\n",
    "plt.ylabel(\"Sales Price\")\n",
    "plt.savefig('images/year_vs_price.png')"
   ]
  },
  {
   "cell_type": "markdown",
   "metadata": {},
   "source": [
    "### Modeling\n",
    "\n",
    "With your (almost?) final dataset in hand, it is now time to build some models.  Here, you should build a number of different regression models with the price as the target.  In building your models, you should explore different parameters and be sure to cross-validate your findings."
   ]
  },
  {
   "cell_type": "code",
   "execution_count": null,
   "metadata": {},
   "outputs": [],
   "source": [
    "## Started modelling with simple linear regression of odometer & price"
   ]
  },
  {
   "cell_type": "code",
   "execution_count": 7,
   "metadata": {},
   "outputs": [
    {
     "name": "stdout",
     "output_type": "stream",
     "text": [
      "LinearRegression(fit_intercept=False)\n",
      "<class 'sklearn.linear_model._base.LinearRegression'>\n"
     ]
    },
    {
     "data": {
      "text/plain": [
       "array([0.00108725])"
      ]
     },
     "execution_count": 7,
     "metadata": {},
     "output_type": "execute_result"
    }
   ],
   "source": [
    "X1 = X[['odometer']]\n",
    "odo_linreg = LinearRegression(fit_intercept=False).fit(X1, y)\n",
    "### END SOLUTION\n",
    "\n",
    "# Answer check\n",
    "print(odo_linreg)\n",
    "print(type(odo_linreg))\n",
    "odo_linreg.coef_"
   ]
  },
  {
   "cell_type": "code",
   "execution_count": null,
   "metadata": {},
   "outputs": [],
   "source": [
    "##adding in all features"
   ]
  },
  {
   "cell_type": "code",
   "execution_count": 8,
   "metadata": {},
   "outputs": [
    {
     "name": "stdout",
     "output_type": "stream",
     "text": [
      "LinearRegression(fit_intercept=False)\n",
      "<class 'sklearn.linear_model._base.LinearRegression'>\n",
      "[-3.84321205e-05  7.54485829e+02 -3.51621532e-05 -1.87094164e+05\n",
      " -3.88323282e+04 -3.80166520e+04 -3.84724453e+04 -3.89187146e+04\n",
      " -4.24500341e+04 -3.76105410e+04 -3.89011555e+04 -3.72272391e+04\n",
      " -3.90791722e+04 -1.29526245e+04 -2.18788990e+02 -1.69816285e+04\n",
      " -1.67089265e+04 -1.69486983e+04 -1.78822717e+04 -1.87707590e+04\n",
      " -1.98460977e+04 -2.20614935e+04  3.11668838e+04 -1.43528958e+04\n",
      " -1.84188577e+04 -2.28233918e+04 -1.78762631e+04 -1.69065534e+04\n",
      " -1.54749843e+04 -2.41441669e+04 -1.66315581e+04 -1.70301951e+04\n",
      " -1.92160470e+04 -1.00370095e+04 -1.84699016e+04 -1.60259725e+04\n",
      " -1.15558550e+04 -1.06653038e+04 -1.27351849e+04 -1.81360379e+04\n",
      " -1.54586430e+04 -7.21321792e+03 -1.71787308e+04 -1.21102151e+04\n",
      " -2.15654493e+04 -1.86162171e+04 -1.77144013e+04 -1.81644891e+04\n",
      " -1.69035120e+04 -7.28992680e+03 -8.33886438e+03 -7.04025727e+03\n",
      " -9.83324683e+03  1.89302396e+03  6.96925191e+03  7.27916480e+03\n",
      "  2.69435399e+03 -1.69439992e+04  5.43743584e+03  5.57877859e+03\n",
      " -3.73410832e+03 -5.73618222e+03  9.15943897e+03 -3.12003391e+04\n",
      "  1.87573713e+04 -3.93913448e+03 -3.61892070e+03  1.47577653e+04\n",
      "  4.63271651e+04 -2.94527754e+04  2.34366511e+03 -1.74427013e+03\n",
      " -8.65942518e+02 -3.00179196e+04 -4.08987419e+03 -6.13880852e+03\n",
      " -6.70595143e+03  4.30247031e+03 -4.12097254e+03 -1.35121843e+04\n",
      " -3.04506195e+03 -4.43701590e+03 -7.53267920e+03 -4.70294965e+03\n",
      "  2.54373151e+04 -3.21030528e+04  2.68495405e+03 -3.04393190e+04\n",
      "  1.83997619e+04  3.11658311e+04 -9.38013750e+02  1.17348797e+04\n",
      " -3.50990579e+02  5.17986805e+03  6.87962947e+03  1.75389748e+04\n",
      "  1.64016089e+04 -4.91219291e+03  1.07388704e+03  8.94002953e+03\n",
      "  1.12208365e+04 -1.23887800e+04 -6.31094988e+03  9.60537597e+03\n",
      " -2.47258769e+04  1.48916616e+04 -2.33024297e+03 -7.74896092e+03\n",
      " -7.06104647e+03 -1.79949541e+03  1.94016516e+04 -4.82346761e+03\n",
      " -9.47540788e+02 -1.00983022e+04 -5.79438757e+03  1.53845185e+04\n",
      "  1.16804669e+04 -2.83076748e+03 -1.28385091e+03 -2.51477139e+03\n",
      " -2.30454272e+02  7.19949835e+02  1.56877873e+03 -4.85087470e+03\n",
      "  6.55696905e+03 -4.22327040e+03 -2.64676453e+04  4.03271713e+04\n",
      " -3.33535341e+03 -1.32423787e+03  1.67930113e+03 -6.39982025e+01\n",
      " -3.30130155e+02  3.23979485e+03 -3.03936134e+03 -1.73793833e+04\n",
      "  5.63741364e+03 -4.13105902e+03 -1.27447306e+04 -1.06859774e+03\n",
      " -1.06657947e+02 -2.23221414e+03  1.56481944e+03  3.83985429e+04\n",
      "  6.27194662e+04  1.47880336e+04 -1.29132917e+04 -8.96735791e+03\n",
      " -1.02178784e+04 -1.84155770e+04 -1.67545600e+03 -4.65094402e+03\n",
      " -4.51938839e+02 -2.13367438e+04 -5.85949092e+03 -7.21418206e+03\n",
      "  1.00358432e+04  1.24728589e+03 -1.09613847e+04  8.60935834e+03\n",
      "  9.32677324e+02  2.81541132e+04  1.52237303e+04 -8.76970697e+03\n",
      "  1.34338339e+04  4.45170976e+03  3.04721863e+03 -1.68483886e+03\n",
      " -3.48125748e+02 -1.01590068e+04  4.92156291e+03 -2.44216765e+03\n",
      " -1.67978010e+03  2.15873753e+03  1.69725664e+03 -4.62655001e+03\n",
      "  1.73146644e+04 -2.74803756e+03  1.09828983e+04  4.03522144e+03\n",
      "  4.91912488e+03 -2.73297789e+03  8.74921993e+02 -1.29693340e+04\n",
      " -2.89784249e+04  3.39206793e+03  9.31629282e+03  6.10407327e+03\n",
      " -7.79756878e+03 -2.69223125e+03 -5.06774525e+03 -1.37777069e+03\n",
      " -3.12348628e+03 -1.49814495e+03  1.46908698e+03 -1.24462334e+02\n",
      " -1.90328333e+02 -4.49551305e+03 -8.51320075e+03 -1.07324400e+04\n",
      " -2.31654229e+03  5.28972452e+03  3.44368115e+03  5.69831470e+03\n",
      " -1.60142477e+04 -1.01316695e+04  7.65394593e+03 -4.76708115e+03\n",
      " -5.89684795e+03 -2.54611874e+03 -4.65754338e+03  4.97910749e+02\n",
      "  1.95863562e+04  2.94836818e+04  5.50698976e+03  5.15535717e+03\n",
      "  8.40819843e+03  7.92296694e+03  1.64366029e+04  2.18030649e+03\n",
      "  3.88456607e+04 -1.28007685e+04  2.40321777e+03  3.51776963e+03\n",
      "  4.95007745e+03  4.13513483e+03 -8.92128282e+02 -4.57387646e+02\n",
      " -5.66109670e+02  3.85700701e+03 -9.45640782e+01  7.53824646e+03\n",
      "  4.64979180e+03  3.46222771e+03 -8.03524326e+03  3.69103918e+04\n",
      " -6.02682259e+03  1.51562309e+03 -8.35033185e+03 -6.47138978e+03\n",
      " -6.02252200e+03 -3.66627901e+03 -1.69254557e+04 -1.38472020e+04\n",
      "  8.32936037e+03  4.94148526e+03  2.87421427e+04  3.77868791e+03\n",
      " -9.70785369e+03 -1.29840273e+04 -1.68075814e+04  3.62472970e+03\n",
      " -9.38652188e+03 -5.00685269e+03 -8.22018172e+03 -5.51780042e+02\n",
      " -1.47097339e+03 -7.69532822e+03 -2.74219896e+03  2.96430950e+01\n",
      "  2.23576376e+04  3.13500546e+03 -6.62074454e+02  7.21443910e+03\n",
      "  1.62297280e+04 -2.69365768e+04  1.49419816e+03 -6.21309249e+03\n",
      " -3.53166597e+03 -3.75049760e+03  1.63234385e+03  2.13713623e+03\n",
      " -2.31319381e+03 -1.72719668e+03 -6.45989267e+01  6.54461935e+02\n",
      " -3.69655568e+03  2.09193016e+04 -1.74732542e+03  2.93979651e+01\n",
      "  1.84249397e+03 -1.96062212e+03  2.93956070e+03 -4.73082715e+03\n",
      " -4.21380759e+03 -4.73566367e+03  3.84822040e+04 -1.37389075e+04\n",
      "  1.96746746e+04 -4.50708708e+03  6.09907089e+03  1.91844455e+03\n",
      " -1.50962264e+03 -4.85289631e+03 -1.19013955e+04  1.35736373e+03\n",
      " -9.91867577e+03 -1.55666375e+04  6.24849990e+03 -7.64252431e+03\n",
      "  5.18604934e+04 -1.36646791e+03 -1.40776644e+04 -1.29673405e+04\n",
      "  3.77179792e+04 -1.17134385e+03 -2.47862465e+03 -5.45325130e+03\n",
      " -2.16668671e+03 -5.06583177e+02 -1.04469079e+04 -1.78995246e+04\n",
      " -1.22500646e+04 -2.02146098e+04  9.08043811e+03  8.03493472e+03\n",
      "  3.55355555e+03  1.03200178e+04 -1.19647485e+03 -2.79413579e+04\n",
      " -3.11114082e+04 -3.50422922e+04 -3.15527224e+03 -2.35352289e+04\n",
      "  3.72634806e+03  5.49090002e+03  9.80626948e+03  1.06882016e+04\n",
      " -1.14780565e+03 -2.80870448e+04 -9.77866682e+03 -1.84130719e+04\n",
      " -3.78187787e+04 -2.79899084e+03 -1.57144351e+04  6.13260734e+03\n",
      "  4.19265605e+03 -1.25721333e+04 -9.62074874e+03 -1.10235053e+04\n",
      "  1.17265221e+04 -3.01226687e+03 -1.66229001e+03  3.12811045e+04\n",
      "  3.51254545e+04  2.39284934e+04 -1.32413623e+04 -1.89777558e+03\n",
      " -6.55453577e+03 -4.47691812e+03  2.33095219e+02  5.73665609e+03\n",
      " -8.86565183e+02 -3.44347771e+04 -1.14635717e+03 -5.99721431e+03\n",
      " -5.23427381e+03 -4.23007310e+03 -3.51026226e+03 -8.32605594e+03\n",
      " -5.45144781e+04 -1.60451153e+03  4.64566767e+03 -2.38401760e+02\n",
      "  5.37446882e+03  2.78095419e+03 -2.15857471e+03 -1.73665626e+02\n",
      " -5.06479043e+03  3.56561770e+03  3.66925660e+03  7.42336005e+03\n",
      "  5.24201759e+03 -1.59649972e+04 -5.75564713e+03 -5.08764880e+03\n",
      "  3.12937821e+04 -6.27524047e+03  4.66368367e+02 -1.03281734e+04\n",
      "  1.25606903e+04 -7.32606864e+02  1.38153660e+03 -6.75657813e+03\n",
      " -1.38141917e+04 -4.22993645e+03 -2.98889788e+03 -3.22884429e+04\n",
      "  7.56100422e+03 -7.88059876e+03  6.86291046e+02 -1.56914221e+03\n",
      "  5.12188186e+03 -2.58299234e+04 -1.81779100e+03 -9.21447447e+03\n",
      " -5.27259946e+02  8.45587024e+03  5.15562743e+03  1.24778488e+04\n",
      "  6.16443636e+03  2.36235792e+03 -6.19572283e+03 -1.35408571e+03\n",
      " -5.16093158e+02 -2.55485352e+03 -2.62847538e+03  1.17425873e+02\n",
      "  4.53347465e+03 -1.28971828e+03  7.10824747e+03  6.00241169e+03\n",
      " -1.35504260e+03 -9.10276336e+03  3.14846433e+04 -6.01703573e+03\n",
      " -6.27253374e+03 -6.19675925e+03  4.87477023e+04 -1.02191919e+04\n",
      " -1.22316823e+04 -4.23066225e+03 -6.75922227e+03 -8.37068001e+03\n",
      " -3.87842719e+03  2.02471206e+03 -1.80616880e+03  6.94426502e+03\n",
      " -6.45299974e+03  8.07233131e+03 -2.77393924e+03  5.76707500e+03\n",
      " -1.13918277e+04  1.73781733e+04 -4.86471997e+03 -1.85534313e+03\n",
      " -1.56487093e+04 -1.12668210e+04 -1.23507033e+03 -6.20874440e+03\n",
      " -1.15560638e+04 -2.69633648e+03  8.05669736e+03 -1.31476441e+04\n",
      "  1.78492226e+03 -4.20482957e+03  2.95853478e+03 -1.46920127e+03\n",
      " -9.67679937e+02  1.88439074e+03  8.63958705e+03  9.40780532e+03\n",
      " -3.90825248e+03 -4.52813673e+02 -1.82060968e+03  1.06555468e+03\n",
      " -3.68503856e+03 -3.10108154e+03 -2.76600562e+03 -1.05619973e+04\n",
      " -4.85470852e+03  5.76632352e+02  1.50379289e+03  1.04870017e+03\n",
      "  1.36144859e+03 -5.22215127e+03 -3.54495733e+03 -2.16885488e+03\n",
      " -3.20957325e+03  1.23341499e+04 -1.90861329e+03 -3.03297881e+03\n",
      " -1.34486824e+04  2.71375978e+04 -1.20043534e+04 -1.15976992e+03\n",
      " -2.67241431e+03  2.54612689e+04 -1.91219973e+03  3.81397333e+03\n",
      " -5.06222857e+03 -1.38794310e+03  9.99619131e+03 -2.10475387e+03\n",
      " -3.87161086e+03  4.56132365e+03  8.27446297e+01  2.25246891e+03\n",
      "  2.85956015e+03  4.79938775e+03  8.38612962e+03 -1.88414862e+03\n",
      "  1.16921996e+04 -1.43695795e+04 -8.32486092e+03  2.59821144e+03\n",
      "  5.13270270e+03  1.31156404e+04  3.62180249e+03 -2.76380691e+03\n",
      " -2.12694421e+03 -4.26189649e+03  4.42386527e+03 -4.86676233e+03\n",
      " -1.52838042e+03 -3.43453540e+03 -4.50805737e+02 -4.19525293e+02\n",
      " -6.69494453e+03  6.05049303e+03 -5.22706268e+03  9.40997512e+02\n",
      "  3.46275680e+03 -2.06473184e+02  2.45406632e+03 -9.71373511e+03\n",
      "  1.67148806e+03  1.09911464e+04  1.61756312e+04  6.14260071e+01\n",
      " -3.74107682e+03 -6.00875970e+03 -1.22484037e+03 -6.10842665e+03\n",
      " -8.82376102e+03 -3.01488978e+02  1.81122197e+03  3.24642834e+02\n",
      "  8.99587115e+02  5.89001585e+03 -9.92121069e+03  1.78924102e+03\n",
      " -1.16792794e+04  2.80587049e+03 -1.72609732e+04 -2.54898160e+03\n",
      "  1.38519957e+03 -2.01037517e+03  3.38659950e+02 -6.75235871e+02\n",
      "  5.32099786e+03  1.63119912e+04  8.46343617e+03 -5.91266017e+02\n",
      "  8.54743937e+03 -2.49943587e+04 -2.69226146e+04 -3.24202277e+04\n",
      "  1.01095543e+04  4.24941743e+03  1.86339735e+04  8.74903058e+03\n",
      "  3.79707704e+03 -3.89163507e+03  7.48419866e+03 -8.48393046e+03\n",
      "  1.49036490e+03  1.34102175e+02  8.12217363e+02 -1.05051849e+03\n",
      " -3.18276781e+04  1.82237107e+04 -3.18790126e+04 -3.89666368e+04\n",
      " -1.31111981e+04 -3.92449134e+04  3.01633153e+03 -4.05038508e+04\n",
      " -3.93990293e+04  2.80775192e+02  2.67510892e+03 -7.86927844e+03\n",
      " -2.81858355e+04 -2.72913870e+04  2.02651502e+04 -1.40540942e+04\n",
      "  7.17659897e+04 -4.13182067e+03 -4.38651391e+03 -1.35712640e+03\n",
      " -1.55403224e+04  4.75970285e+03 -5.52342598e+03 -3.03279379e+03\n",
      " -1.63977947e+03 -7.04701854e+03 -6.98239103e+03  4.10793246e+03\n",
      " -5.64598074e+03 -1.50055629e+03  5.63110501e+03 -3.65129960e+02\n",
      " -1.20998759e+04 -5.66834757e+02  2.33195329e+03  8.29339549e+03\n",
      "  4.43549365e+02  3.28908718e+03  1.13483359e+04 -3.82260698e+03\n",
      " -3.28509209e+02 -9.24094305e+03  3.52495369e+03  1.61305243e+04\n",
      "  1.88718758e+03  2.46187885e+03  7.85500946e+03  1.30673819e+03\n",
      "  1.55295843e+03 -1.61796457e+04 -3.93604701e+02 -1.38424019e+04\n",
      " -4.21839438e+03 -9.63069855e+02  6.03780980e+03  4.87037267e+03\n",
      "  7.76561377e+03 -1.39595171e+04 -5.44209482e+03 -2.75789918e+04\n",
      "  6.94549254e+03 -7.12159345e+03 -8.42345941e+03 -4.60403140e+03\n",
      "  3.00750694e+03 -8.58491000e+02 -2.48180206e+03 -1.38136200e+03\n",
      " -1.25587122e+04  7.73103570e+03  1.50443504e+03  1.19202397e+04\n",
      "  2.88667592e+03 -3.20245026e+02  1.41655256e+04 -1.74700323e+03\n",
      " -1.18018285e+04 -4.19101010e+03 -3.90693712e+03  3.57720395e+03\n",
      "  2.83930544e+03  2.55193557e+03  1.89781327e+03 -9.46861669e+03\n",
      "  3.74663037e+03  2.92606685e+02  5.38408809e+03 -1.55711788e+04\n",
      " -3.17538214e+03 -1.04574081e+04 -3.34690970e+03  5.05151683e+03\n",
      "  1.76840059e+04  3.71507567e+03  4.63236843e+03  5.58027332e+03\n",
      "  7.01830161e+03  3.45542397e+03 -2.13281318e+03  7.80737701e+03\n",
      "  1.03400677e+04  1.18041563e+04  5.22150188e+03  5.01920465e+03\n",
      "  6.75483821e+03  4.40096194e+03 -6.17344227e+03 -4.47999413e+03\n",
      "  1.75839025e+04 -5.47308654e+03 -4.21249965e+03 -1.02515099e+04\n",
      " -7.88611892e+03 -8.04268584e+01 -5.73243576e+03 -3.03621126e+03\n",
      "  8.20604824e+02 -2.55531607e+04 -3.02390850e+04 -8.48728140e+03\n",
      "  1.88918218e+04 -1.44483674e+04 -6.68625263e+03 -4.59466738e+02\n",
      " -9.96223552e+04 -1.00608559e+05 -9.86230909e+04 -9.45214893e+04\n",
      " -8.87364123e+04 -5.45137655e+04 -8.11465208e+04 -6.09030221e+04\n",
      " -9.40550049e+04 -9.53155478e+04 -9.15563184e+04 -8.42280267e+04\n",
      " -2.94542054e+04 -1.29183962e+05 -1.36780852e+05 -1.35609835e+05\n",
      " -1.35111524e+05 -8.09570005e+04 -8.42046664e+04 -8.70494586e+04\n",
      " -1.10038090e+05 -8.96420599e+04 -8.47718962e+04 -1.82030092e+05\n",
      " -1.78091192e+05 -1.76542481e+05 -1.78234608e+05 -1.82380699e+05\n",
      " -1.76082039e+05 -4.66045977e+04 -4.78164805e+04 -4.99877232e+04\n",
      " -4.29742867e+04 -4.75298634e+04 -4.42633129e+04 -4.20546770e+04\n",
      " -2.70225573e+04 -4.57614048e+04 -4.58907574e+04 -4.74309891e+04\n",
      " -4.93274885e+04 -1.87093925e+05 -3.49538820e+05]\n",
      "20542802.43983062\n"
     ]
    }
   ],
   "source": [
    "all_linreg = LinearRegression(fit_intercept=False).fit(X, y)\n",
    "linreg_mse = mean_squared_error(all_linreg.predict(X), y)\n",
    "\n",
    "print(all_linreg)\n",
    "print(type(all_linreg))\n",
    "print(all_linreg.coef_)\n",
    "print(linreg_mse)"
   ]
  },
  {
   "cell_type": "code",
   "execution_count": 9,
   "metadata": {},
   "outputs": [
    {
     "name": "stdout",
     "output_type": "stream",
     "text": [
      "19489.38\n",
      "<class 'numpy.float64'>\n"
     ]
    }
   ],
   "source": [
    "car_prediction = ''\n",
    "\n",
    "### BEGIN SOLUTION\n",
    "car_encoded = pd.get_dummies(X[['odometer', 'year', 'paint_color_black','fuel_diesel','condition_excellent']])\n",
    "\n",
    "car_features = pd.DataFrame({\n",
    "    'odometer': [10000],\n",
    "    'year': [2019],\n",
    "    'paint_color_black': [1],\n",
    "    'fuel_diesel': [1],\n",
    "    'condition_excellent': [1]\n",
    "    \n",
    "})\n",
    "\n",
    "car_features_encoded = pd.get_dummies(car_features).reindex(columns=car_encoded.columns, fill_value=0)\n",
    "\n",
    "car_linreg = LinearRegression(fit_intercept=False).fit(car_encoded, y)\n",
    "\n",
    "car_prediction = car_linreg.predict(car_features_encoded)\n",
    "\n",
    "car_prediction = round(car_prediction[0], 2)\n",
    "\n",
    "\n",
    "print(car_prediction)\n",
    "print(type(car_prediction))"
   ]
  },
  {
   "cell_type": "code",
   "execution_count": null,
   "metadata": {},
   "outputs": [],
   "source": [
    "## Trying Ridge modeling"
   ]
  },
  {
   "cell_type": "code",
   "execution_count": null,
   "metadata": {},
   "outputs": [],
   "source": [
    "ridge_models = []\n",
    "ridge_scores = []\n",
    "\n",
    "# List of different alpha values to try for Ridge Regression\n",
    "alphas = [0.01, 0.1, 1.0, 10.0, 100.0]\n",
    "\n",
    "# Train a Ridge Regression model for each alpha and evaluate using cross-validation\n",
    "for alpha in alphas:\n",
    "    ridge = Ridge(alpha=alpha, random_state=0)\n",
    "    ridge.fit(X_train, y_train)\n",
    "    \n",
    "    # Perform cross-validation and calculate RMSE\n",
    "    scores = cross_val_score(ridge, X_train, y_train, scoring='neg_mean_squared_error', cv=5)\n",
    "    rmse_scores = np.sqrt(-scores)\n",
    "    \n",
    "    # Save the model and its cross-validation scores\n",
    "    ridge_models.append(ridge)\n",
    "    ridge_scores.append(rmse_scores)\n",
    "\n",
    "# Display the RMSE scores for each alpha\n",
    "ridge_scores"
   ]
  },
  {
   "cell_type": "code",
   "execution_count": 11,
   "metadata": {},
   "outputs": [
    {
     "name": "stdout",
     "output_type": "stream",
     "text": [
      "Train MSE: 111207266.09599568\n",
      "Test MSE: 82744345.12188263\n"
     ]
    }
   ],
   "source": [
    "selector_pipe = Pipeline([('selector', SequentialFeatureSelector(LinearRegression())),\n",
    "                         ('model', LinearRegression())])\n",
    "param_dict = {}\n",
    "selector_grid = ''\n",
    "selector_train_mse = ''\n",
    "selector_test_mse = ''\n",
    "\n",
    "### BEGIN SOLUTION\n",
    "param_dict = {'selector__n_features_to_select': [2, 3, 4, 5]}\n",
    "selector_grid = GridSearchCV(selector_pipe, param_grid=param_dict)\n",
    "selector_grid.fit(X_train, y_train)\n",
    "train_preds = selector_grid.predict(X_train)\n",
    "test_preds = selector_grid.predict(X_test)\n",
    "selector_train_mse = mean_squared_error(y_train, train_preds)\n",
    "selector_test_mse = mean_squared_error(y_test, test_preds)\n",
    "### END SOLUTION\n",
    "\n",
    "# ANSWER CHECK\n",
    "print(f'Train MSE: {selector_train_mse}')\n",
    "print(f'Test MSE: {selector_test_mse}')"
   ]
  },
  {
   "cell_type": "code",
   "execution_count": 12,
   "metadata": {},
   "outputs": [
    {
     "name": "stdout",
     "output_type": "stream",
     "text": [
      "Train MSE: 27899343.82153275\n",
      "Test MSE: 61637646.314477086\n"
     ]
    }
   ],
   "source": [
    "ridge_param_dict = ''\n",
    "ridge_pipe = ''\n",
    "ridge_grid = ''\n",
    "ridge_train_mse = ''\n",
    "ridge_test_mse = ''\n",
    "\n",
    "### BEGIN SOLUTION\n",
    "ridge_param_dict = {'ridge__alpha': np.logspace(0, 10, 50)}\n",
    "ridge_pipe = Pipeline([('scaler', StandardScaler()), \n",
    "                      ('ridge', Ridge())])\n",
    "ridge_grid = GridSearchCV(ridge_pipe, param_grid=ridge_param_dict)\n",
    "ridge_grid.fit(X_train, y_train)\n",
    "ridge_train_preds = ridge_grid.predict(X_train)\n",
    "ridge_test_preds = ridge_grid.predict(X_test)\n",
    "ridge_train_mse = mean_squared_error(y_train, ridge_train_preds)\n",
    "ridge_test_mse = mean_squared_error(y_test, ridge_test_preds)\n",
    "### END SOLUTION\n",
    "\n",
    "# ANSWER CHECK\n",
    "print(f'Train MSE: {ridge_train_mse}')\n",
    "print(f'Test MSE: {ridge_test_mse}')"
   ]
  },
  {
   "cell_type": "code",
   "execution_count": 13,
   "metadata": {},
   "outputs": [
    {
     "name": "stdout",
     "output_type": "stream",
     "text": [
      "Pipeline(steps=[('selector',\n",
      "                 SequentialFeatureSelector(estimator=LinearRegression(),\n",
      "                                           n_features_to_select=5)),\n",
      "                ('model', LinearRegression())])\n",
      "Features from best selector: Index(['year', 'odometer', 'model_super duty f-550 drw', 'transmission_other',\n",
      "       'drive_fwd'],\n",
      "      dtype='object').\n",
      "Coefficient values: \n",
      "===================\n"
     ]
    },
    {
     "data": {
      "text/html": [
       "<div>\n",
       "<style scoped>\n",
       "    .dataframe tbody tr th:only-of-type {\n",
       "        vertical-align: middle;\n",
       "    }\n",
       "\n",
       "    .dataframe tbody tr th {\n",
       "        vertical-align: top;\n",
       "    }\n",
       "\n",
       "    .dataframe thead th {\n",
       "        text-align: right;\n",
       "    }\n",
       "</style>\n",
       "<table border=\"1\" class=\"dataframe\">\n",
       "  <thead>\n",
       "    <tr style=\"text-align: right;\">\n",
       "      <th></th>\n",
       "      <th>year</th>\n",
       "      <th>odometer</th>\n",
       "      <th>model_super duty f-550 drw</th>\n",
       "      <th>transmission_other</th>\n",
       "      <th>drive_fwd</th>\n",
       "    </tr>\n",
       "  </thead>\n",
       "  <tbody>\n",
       "    <tr>\n",
       "      <th>model</th>\n",
       "      <td>357.881648</td>\n",
       "      <td>-0.002515</td>\n",
       "      <td>23872.859646</td>\n",
       "      <td>13504.238829</td>\n",
       "      <td>-9231.402649</td>\n",
       "    </tr>\n",
       "  </tbody>\n",
       "</table>\n",
       "</div>"
      ],
      "text/plain": [
       "             year  odometer  model_super duty f-550 drw  transmission_other  \\\n",
       "model  357.881648 -0.002515                23872.859646        13504.238829   \n",
       "\n",
       "         drive_fwd  \n",
       "model -9231.402649  "
      ]
     },
     "execution_count": 13,
     "metadata": {},
     "output_type": "execute_result"
    }
   ],
   "source": [
    "best_estimator = ''\n",
    "best_selector = ''\n",
    "best_model = ''\n",
    "feature_names = ''\n",
    "coefs = ''\n",
    "\n",
    "\n",
    "### BEGIN SOLUTION\n",
    "best_estimator = selector_grid.best_estimator_\n",
    "best_selector = best_estimator.named_steps['selector']\n",
    "best_model = selector_grid.best_estimator_.named_steps['model']\n",
    "feature_names = X_train.columns[best_selector.get_support()]\n",
    "coefs = best_model.coef_\n",
    "### END SOLUTION\n",
    "\n",
    "# Answer check\n",
    "print(best_estimator)\n",
    "print(f'Features from best selector: {feature_names}.')\n",
    "print('Coefficient values: ')\n",
    "print('===================')\n",
    "pd.DataFrame([coefs.T], columns = feature_names, index = ['model'])"
   ]
  },
  {
   "cell_type": "code",
   "execution_count": null,
   "metadata": {},
   "outputs": [],
   "source": []
  },
  {
   "cell_type": "code",
   "execution_count": null,
   "metadata": {},
   "outputs": [],
   "source": []
  },
  {
   "cell_type": "markdown",
   "metadata": {},
   "source": [
    "### Evaluation\n",
    "\n",
    "With some modeling accomplished, we aim to reflect on what we identify as a high quality model and what we are able to learn from this.  We should review our business objective and explore how well we can provide meaningful insight on drivers of used car prices.  Your goal now is to distill your findings and determine whether the earlier phases need revisitation and adjustment or if you have information of value to bring back to your client."
   ]
  },
  {
   "cell_type": "code",
   "execution_count": null,
   "metadata": {},
   "outputs": [],
   "source": [
    "## As I went through this exercise, there were several spots that forced me to go back and reconsider things.\n",
    "## I didn't realize at first that there were prices that needed to be excluded - completely made up which would\n",
    "## greatly skew the model.  Another thing I did was to select 5000 rows from the initial data set.  I tried\n",
    "## working with the entire set, but due to it's size, it wasn't feasible to run through the various iterations.\n",
    "## Ideally, I would use a computer with higher speed to process the larger set and run through these models with\n",
    "## the entire set."
   ]
  },
  {
   "cell_type": "code",
   "execution_count": null,
   "metadata": {},
   "outputs": [],
   "source": []
  },
  {
   "cell_type": "code",
   "execution_count": null,
   "metadata": {},
   "outputs": [],
   "source": []
  },
  {
   "cell_type": "code",
   "execution_count": null,
   "metadata": {},
   "outputs": [],
   "source": []
  },
  {
   "cell_type": "code",
   "execution_count": null,
   "metadata": {},
   "outputs": [],
   "source": []
  },
  {
   "cell_type": "code",
   "execution_count": null,
   "metadata": {},
   "outputs": [],
   "source": []
  },
  {
   "cell_type": "markdown",
   "metadata": {},
   "source": [
    "### Deployment\n",
    "\n",
    "Now that we've settled on our models and findings, it is time to deliver the information to the client.  You should organize your work as a basic report that details your primary findings.  Keep in mind that your audience is a group of used car dealers interested in fine tuning their inventory."
   ]
  },
  {
   "cell_type": "code",
   "execution_count": null,
   "metadata": {},
   "outputs": [],
   "source": [
    "## I have developed two different model/approaches to used car inventory & prices.  The first model would allow \n",
    "## a dealer to input characteristics about a car and determine a typical sales price.  This can be used initially\n",
    "## to negotiate a trade-in or purchase price to ensure the appropriate profit margin...enter several characteristics\n",
    "## and the model will tell you the predicted sales price.  Depending on overhead, carrying costs, or required\n",
    "## repairs, you can figure out if it's a good deal.  The second model determined what are the best features to \n",
    "## choose to maximize price.  This would also be used to target a kind of vehicle to add to the lot.  If you\n",
    "## want to fill the lot with the highest priced vehicles, then low mileage, newer, FWD, and super duty F550 are\n",
    "## what will drive a higher price."
   ]
  },
  {
   "cell_type": "code",
   "execution_count": null,
   "metadata": {},
   "outputs": [],
   "source": []
  },
  {
   "cell_type": "code",
   "execution_count": null,
   "metadata": {},
   "outputs": [],
   "source": []
  },
  {
   "cell_type": "code",
   "execution_count": null,
   "metadata": {},
   "outputs": [],
   "source": []
  },
  {
   "cell_type": "code",
   "execution_count": null,
   "metadata": {},
   "outputs": [],
   "source": []
  },
  {
   "cell_type": "code",
   "execution_count": null,
   "metadata": {},
   "outputs": [],
   "source": []
  },
  {
   "cell_type": "code",
   "execution_count": null,
   "metadata": {},
   "outputs": [],
   "source": []
  }
 ],
 "metadata": {
  "kernelspec": {
   "display_name": "Python 3 (ipykernel)",
   "language": "python",
   "name": "python3"
  },
  "language_info": {
   "codemirror_mode": {
    "name": "ipython",
    "version": 3
   },
   "file_extension": ".py",
   "mimetype": "text/x-python",
   "name": "python",
   "nbconvert_exporter": "python",
   "pygments_lexer": "ipython3",
   "version": "3.11.3"
  },
  "widgets": {
   "application/vnd.jupyter.widget-state+json": {
    "state": {},
    "version_major": 2,
    "version_minor": 0
   }
  }
 },
 "nbformat": 4,
 "nbformat_minor": 4
}
